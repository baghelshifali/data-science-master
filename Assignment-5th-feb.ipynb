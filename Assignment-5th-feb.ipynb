{
 "cells": [
  {
   "cell_type": "code",
   "execution_count": 5,
   "id": "75373eca-88d2-47b2-b9b2-339df378ffc4",
   "metadata": {},
   "outputs": [
    {
     "data": {
      "text/plain": [
       "'Hello world'"
      ]
     },
     "execution_count": 5,
     "metadata": {},
     "output_type": "execute_result"
    }
   ],
   "source": [
    "#Q1. Explain Class and Object with respect to Object-Oriented Programming. Give a suitable example.\n",
    "# Class is a enttiy type that  describes what a certain type of object.\n",
    "# Example :\n",
    "class abc :\n",
    "    def renders(self) :\n",
    "        return \"Hello world\"\n",
    "    \n",
    "# object if a instance of class whihc is use to get class data.\n",
    "# Withut intialisation of object, we cant not get class properties.\n",
    "obj = abc() # initialise the object of class\n",
    "obj.renders()"
   ]
  },
  {
   "cell_type": "code",
   "execution_count": null,
   "id": "ffb27024-f87d-46bf-bd7a-dc57bd3a0ba1",
   "metadata": {},
   "outputs": [],
   "source": [
    "#Q2. Name the four pillars of OOPs.\n",
    "# Abstraction\n",
    "# Encapsulation\n",
    "# Inheritance\n",
    "# Polymorphism\n"
   ]
  },
  {
   "cell_type": "code",
   "execution_count": 10,
   "id": "1d7c1ab8-8ad5-4f3a-bea4-a4a06a8d7003",
   "metadata": {},
   "outputs": [
    {
     "name": "stdout",
     "output_type": "stream",
     "text": [
      "shifali\n"
     ]
    }
   ],
   "source": [
    "# Q3. Explain why the __init__() function is used. Give a suitable example.\n",
    "# init function in oops use to intialise the value on object call.\n",
    "# Example:\n",
    "class xyz:\n",
    "    def __init__(self, name) :\n",
    "        self.name = name\n",
    "        \n",
    "obj = xyz(\"shifali\") # intialised the object\n",
    "print(obj.name) # getting the name entity which has been initializing on object creation."
   ]
  },
  {
   "cell_type": "code",
   "execution_count": 15,
   "id": "a5aa9374-f65f-4753-9adc-b40609ce7c41",
   "metadata": {},
   "outputs": [
    {
     "name": "stdout",
     "output_type": "stream",
     "text": [
      "Pw Skill\n"
     ]
    }
   ],
   "source": [
    "# Q4. Why self is used in OOPs?\n",
    "# self is generaly use to define the method is a instance of class.\n",
    "# Example:\n",
    "class sf:\n",
    "    def __init__(self, company) :\n",
    "        self.company = company\n",
    "obj = sf(\"Pw Skill\")\n",
    "print(obj.company)"
   ]
  },
  {
   "cell_type": "code",
   "execution_count": 1,
   "id": "e8b66a07-1acb-47ec-b8c8-e6040c6138a5",
   "metadata": {},
   "outputs": [
    {
     "data": {
      "text/plain": [
       "'This is my first inheritance'"
      ]
     },
     "execution_count": 1,
     "metadata": {},
     "output_type": "execute_result"
    }
   ],
   "source": [
    "# Q5. What is inheritance? Give an example for each type of inheritance.\n",
    "\n",
    "class test :\n",
    "    def render_part1(self) :\n",
    "        return \"This is my first inheritance\"\n",
    "    \n",
    "class child_of_test(test) :\n",
    "    def render_part2(self) :\n",
    "        return \"this is my child inheritance\"\n",
    "    \n",
    "object_of_child_class = child_of_test()\n",
    "object_of_child_class.render_part1()"
   ]
  },
  {
   "cell_type": "code",
   "execution_count": 2,
   "id": "afa500a3-6312-4736-b365-b979ef188da5",
   "metadata": {},
   "outputs": [
    {
     "data": {
      "text/plain": [
       "'This is my class one...'"
      ]
     },
     "execution_count": 2,
     "metadata": {},
     "output_type": "execute_result"
    }
   ],
   "source": [
    "# multilevel inheritance\n",
    "class one:\n",
    "    def class_one(self) :\n",
    "        return \"This is my class one...\"\n",
    "\n",
    "class two(one):\n",
    "    def class_two(self) :\n",
    "        return \"This is my class two...\"\n",
    "\n",
    "class three(two):\n",
    "    def class_three(self) :\n",
    "        return \"This is my class three...\"\n",
    "obj_of_class_three = three()\n",
    "obj_of_class_three.class_one()"
   ]
  },
  {
   "cell_type": "code",
   "execution_count": null,
   "id": "91ffa49a-5c0b-42f7-a637-c7dd4ed0013e",
   "metadata": {},
   "outputs": [],
   "source": []
  }
 ],
 "metadata": {
  "kernelspec": {
   "display_name": "Python 3 (ipykernel)",
   "language": "python",
   "name": "python3"
  },
  "language_info": {
   "codemirror_mode": {
    "name": "ipython",
    "version": 3
   },
   "file_extension": ".py",
   "mimetype": "text/x-python",
   "name": "python",
   "nbconvert_exporter": "python",
   "pygments_lexer": "ipython3",
   "version": "3.10.8"
  }
 },
 "nbformat": 4,
 "nbformat_minor": 5
}
