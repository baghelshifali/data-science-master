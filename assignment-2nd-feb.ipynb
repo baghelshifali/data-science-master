{
 "cells": [
  {
   "cell_type": "code",
   "execution_count": null,
   "id": "1622611d-9e96-459e-b2e8-976c9df48460",
   "metadata": {},
   "outputs": [],
   "source": [
    "# Q1. Explain with an example each when to use a for loop and a while loop."
   ]
  },
  {
   "cell_type": "code",
   "execution_count": 59,
   "id": "ff513cd5-ba56-4d1b-9e01-b60ce8d9224d",
   "metadata": {},
   "outputs": [
    {
     "name": "stdin",
     "output_type": "stream",
     "text": [
      "Please enter your number:  3\n"
     ]
    },
    {
     "name": "stdout",
     "output_type": "stream",
     "text": [
      "3 x 1 = 3\n",
      "3 x 2 = 6\n",
      "3 x 3 = 9\n",
      "3 x 4 = 12\n",
      "3 x 5 = 15\n",
      "3 x 6 = 18\n",
      "3 x 7 = 21\n",
      "3 x 8 = 24\n",
      "3 x 9 = 27\n",
      "3 x 10 = 30\n"
     ]
    }
   ],
   "source": [
    "\n",
    "# For loop nerver check the condition at the start , therefor while loop check the condition at the starting.\n",
    "# For loop manage counter itself where in while loop we have to specify counter. For example below\n",
    "# Print table using while loop Example\n",
    "table = int(input(\"Please enter your number: \"))\n",
    "count = 1\n",
    "while count <= 10 :\n",
    "    st =  table * count\n",
    "    print(table ,'x',count , '=', st)\n",
    "    count = count+1"
   ]
  },
  {
   "cell_type": "code",
   "execution_count": 60,
   "id": "053f452b-9232-447c-8f5b-8144a83d47c0",
   "metadata": {},
   "outputs": [
    {
     "name": "stdin",
     "output_type": "stream",
     "text": [
      "Please enter your number:  4\n"
     ]
    },
    {
     "name": "stdout",
     "output_type": "stream",
     "text": [
      "4 x 1 = 4\n",
      "4 x 2 = 8\n",
      "4 x 3 = 12\n",
      "4 x 4 = 16\n",
      "4 x 5 = 20\n",
      "4 x 6 = 24\n",
      "4 x 7 = 28\n",
      "4 x 8 = 32\n",
      "4 x 9 = 36\n",
      "4 x 10 = 40\n"
     ]
    }
   ],
   "source": [
    "# Print table using For loop Example\n",
    "table = int(input(\"Please enter your number: \"))\n",
    "count = 1\n",
    "for i in range(10) :\n",
    "    st =  table * count\n",
    "    print(table ,'x',count , '=', st)\n",
    "    count = count+1"
   ]
  },
  {
   "cell_type": "code",
   "execution_count": null,
   "id": "c1917d03-42a9-48f5-9a01-721ff2af948b",
   "metadata": {},
   "outputs": [],
   "source": [
    "\"\"\" Q2. Write a python program to print the sum and product of the first 10 natural numbers using for\n",
    "and while loop. \"\"\""
   ]
  },
  {
   "cell_type": "code",
   "execution_count": 61,
   "id": "2bf82090-e2c1-4036-8993-be4b85baaf41",
   "metadata": {},
   "outputs": [
    {
     "name": "stdout",
     "output_type": "stream",
     "text": [
      "55\n"
     ]
    }
   ],
   "source": [
    "# Sum of 10 natural number using while loop\n",
    "# 1, 2, 3, 4, 5, 6, 7, 8, 9, 10\n",
    "number = 10\n",
    "j = 1\n",
    "store = 0\n",
    "while j <= number :\n",
    "    store = store + j\n",
    "    j = j+1\n",
    "print(store)"
   ]
  },
  {
   "cell_type": "code",
   "execution_count": 65,
   "id": "a759d7e2-aabc-49e2-ab38-3f8a01009e24",
   "metadata": {},
   "outputs": [
    {
     "name": "stdout",
     "output_type": "stream",
     "text": [
      "3628800\n"
     ]
    }
   ],
   "source": [
    "# product of 10 natural number using while loop\n",
    "# 1, 2, 3, 4, 5, 6, 7, 8, 9, 10\n",
    "number = 10\n",
    "j = 1\n",
    "store = 1\n",
    "while j <= number :\n",
    "    store = store * j\n",
    "    j = j+1\n",
    "print(store)"
   ]
  },
  {
   "cell_type": "code",
   "execution_count": 66,
   "id": "fe9810ae-94c3-4fa2-8be1-25e63f94420e",
   "metadata": {},
   "outputs": [
    {
     "name": "stdout",
     "output_type": "stream",
     "text": [
      "55\n"
     ]
    }
   ],
   "source": [
    "# Sum of 10 natural number using for loop\n",
    "# 1, 2, 3, 4, 5, 6, 7, 8, 9, 10\n",
    "number = 10\n",
    "j = 1\n",
    "store = 0\n",
    "for i in range(number) : \n",
    "    store = store + j\n",
    "    j = j+1\n",
    "print(store)"
   ]
  },
  {
   "cell_type": "code",
   "execution_count": 67,
   "id": "cd138832-9853-4fc1-ac10-8a1a2be7c765",
   "metadata": {},
   "outputs": [
    {
     "name": "stdout",
     "output_type": "stream",
     "text": [
      "3628800\n"
     ]
    }
   ],
   "source": [
    "# product of 10 natural number using while loop\n",
    "# 1, 2, 3, 4, 5, 6, 7, 8, 9, 10\n",
    "number = 10\n",
    "j = 1\n",
    "store = 1\n",
    "for i in range(number) :\n",
    "    store = store * j\n",
    "    j = j+1\n",
    "print(store)"
   ]
  },
  {
   "cell_type": "code",
   "execution_count": 1,
   "id": "b44bca98-d282-4b2f-8b78-1447b9e59d37",
   "metadata": {},
   "outputs": [
    {
     "data": {
      "text/plain": [
       "' Q4. Create a list of numbers from 1 to 100. Use for loop and while loop to calculate the cube of each\\nnumber and if the cube of that number is divisible by 4 or 5 then append that number in a list and print\\nthat list. '"
      ]
     },
     "execution_count": 1,
     "metadata": {},
     "output_type": "execute_result"
    }
   ],
   "source": [
    "\"\"\" Q4. Create a list of numbers from 1 to 100. Use for loop and while loop to calculate the cube of each\n",
    "number and if the cube of that number is divisible by 4 or 5 then append that number in a list and print\n",
    "that list. \"\"\""
   ]
  },
  {
   "cell_type": "code",
   "execution_count": 70,
   "id": "dee420b0-3b55-4d1b-ba64-ce390ea46465",
   "metadata": {},
   "outputs": [
    {
     "name": "stdout",
     "output_type": "stream",
     "text": [
      "[1, 2, 3, 4, 5, 6, 7, 8, 9, 10, 11, 12, 13, 14, 15, 16, 17, 18, 19, 20, 21, 22, 23, 24, 25, 26, 27, 28, 29, 30, 31, 32, 33, 34, 35, 36, 37, 38, 39, 40, 41, 42, 43, 44, 45, 46, 47, 48, 49, 50, 51, 52, 53, 54, 55, 56, 57, 58, 59, 60, 61, 62, 63, 64, 65, 66, 67, 68, 69, 70, 71, 72, 73, 74, 75, 76, 77, 78, 79, 80, 81, 82, 83, 84, 85, 86, 87, 88, 89, 90, 91, 92, 93, 94, 95, 96, 97, 98, 99, 100, 2, 16, 25, 54, 128, 250, 200, 432, 686, 675, 1024, 1458, 2000, 1600, 2662, 3456, 3125, 4394, 5488, 6750, 5400, 8192, 9826, 8575, 11664, 13718, 16000, 12800, 18522, 21296, 18225, 24334, 27648, 31250, 25000, 35152, 39366, 33275, 43904, 48778, 54000, 43200, 59582, 65536, 54925, 71874, 78608, 85750, 68600, 93312, 101306, 84375, 109744, 118638, 128000, 102400, 137842, 148176, 122825, 159014, 170368, 182250, 145800, 194672, 207646, 171475, 221184, 235298, 250000, 200000]\n"
     ]
    }
   ],
   "source": [
    "li = list(range(1, 101))\n",
    "for i in range(1, 101) : \n",
    "    devid_by_four = i**3/4\n",
    "    devid_by_five = i**3/5\n",
    "    if devid_by_four.is_integer() :\n",
    "        li.append(round(devid_by_four))\n",
    "    if devid_by_five.is_integer() :\n",
    "        li.append(round(devid_by_five))\n",
    "print(li)"
   ]
  },
  {
   "cell_type": "code",
   "execution_count": 72,
   "id": "2c208361-a28e-45f5-80ee-d91779a501ed",
   "metadata": {},
   "outputs": [
    {
     "name": "stdout",
     "output_type": "stream",
     "text": [
      "[1, 2, 3, 4, 5, 6, 7, 8, 9, 10, 11, 12, 13, 14, 15, 16, 17, 18, 19, 20, 21, 22, 23, 24, 25, 26, 27, 28, 29, 30, 31, 32, 33, 34, 35, 36, 37, 38, 39, 40, 41, 42, 43, 44, 45, 46, 47, 48, 49, 50, 51, 52, 53, 54, 55, 56, 57, 58, 59, 60, 61, 62, 63, 64, 65, 66, 67, 68, 69, 70, 71, 72, 73, 74, 75, 76, 77, 78, 79, 80, 81, 82, 83, 84, 85, 86, 87, 88, 89, 90, 91, 92, 93, 94, 95, 96, 97, 98, 99, 100, 2, 16, 25, 54, 128, 250, 200, 432, 686, 675, 1024, 1458, 2000, 1600, 2662, 3456, 3125, 4394, 5488, 6750, 5400, 8192, 9826, 8575, 11664, 13718, 16000, 12800, 18522, 21296, 18225, 24334, 27648, 31250, 25000, 35152, 39366, 33275, 43904, 48778, 54000, 43200, 59582, 65536, 54925, 71874, 78608, 85750, 68600, 93312, 101306, 84375, 109744, 118638, 128000, 102400, 137842, 148176, 122825, 159014, 170368, 182250, 145800, 194672, 207646, 171475, 221184, 235298, 250000, 200000]\n"
     ]
    }
   ],
   "source": [
    "li = list(range(1, 101))\n",
    "i = 1\n",
    "while i <= 100 : \n",
    "    devid_by_four = i**3/4\n",
    "    devid_by_five = i**3/5\n",
    "    if devid_by_four.is_integer() :\n",
    "        li.append(round(devid_by_four))\n",
    "    if devid_by_five.is_integer() :\n",
    "        li.append(round(devid_by_five))\n",
    "    i = i+1\n",
    "print(li)"
   ]
  },
  {
   "cell_type": "code",
   "execution_count": 73,
   "id": "9b1f08ec-1a91-4591-aed0-a511de9d8480",
   "metadata": {},
   "outputs": [
    {
     "name": "stdout",
     "output_type": "stream",
     "text": [
      "12\n",
      "['I', 'a', 'o', 'e', 'o', 'e', 'a', 'a', 'a', 'i', 'e', 'i']\n"
     ]
    }
   ],
   "source": [
    "# Q5. Write a program to filter count vowels in the below-given string.\n",
    "string = \"I want to become a data scientist\"\n",
    "vowels = \"AaEeIiOoUu\"\n",
    "res = []\n",
    "count = 0\n",
    "for i in string :\n",
    "    if i in vowels :\n",
    "        res.append(i)\n",
    "        count = count+1\n",
    "print(count)\n",
    "print(res)"
   ]
  },
  {
   "cell_type": "code",
   "execution_count": 56,
   "id": "0e815c88-d656-4109-9ea6-11bcc5578b9e",
   "metadata": {},
   "outputs": [
    {
     "data": {
      "text/plain": [
       "' \\nQ3. Create a python program to compute the electricity bill for a household. \\nThe per-unit charges in rupees are as follows: \\nFor the first 100 units, the user will be charged Rs. 4.5 per unit, \\nfor the next 100 units, the user will be charged Rs. 6 per unit, \\nand for the next 100 units, the user will be charged Rs. 10 per unit, \\nAfter 300 units and above the user will be charged Rs. 20 per unit.\\nYou are required to take the units of electricity consumed in a month from the user as input.\\nYour program must pass this test case: when the unit of electricity consumed by the user in a month is\\n310, the total electricity bill should be 2250. \\n'"
      ]
     },
     "execution_count": 56,
     "metadata": {},
     "output_type": "execute_result"
    }
   ],
   "source": [
    "\"\"\" \n",
    "Q3. Create a python program to compute the electricity bill for a household. \n",
    "The per-unit charges in rupees are as follows: \n",
    "For the first 100 units, the user will be charged Rs. 4.5 per unit, \n",
    "for the next 100 units, the user will be charged Rs. 6 per unit, \n",
    "and for the next 100 units, the user will be charged Rs. 10 per unit, \n",
    "After 300 units and above the user will be charged Rs. 20 per unit.\n",
    "You are required to take the units of electricity consumed in a month from the user as input.\n",
    "Your program must pass this test case: when the unit of electricity consumed by the user in a month is\n",
    "310, the total electricity bill should be 2250. \n",
    "\"\"\"\n",
    "# 100*4.5+100*6+100*10+10*20"
   ]
  },
  {
   "cell_type": "code",
   "execution_count": 74,
   "id": "00e0e0f1-fc91-4628-8f93-255a56b668d7",
   "metadata": {},
   "outputs": [
    {
     "name": "stdin",
     "output_type": "stream",
     "text": [
      "Please enter your unit -  500\n"
     ]
    },
    {
     "name": "stdout",
     "output_type": "stream",
     "text": [
      "Unit is more than 300:  6050\n"
     ]
    }
   ],
   "source": [
    "# first = 4.5\n",
    "# second = 6\n",
    "# second = 10\n",
    "# second = 20\n",
    "unit = int(input(\"Please enter your unit - \"))\n",
    "if unit in range(0,101) :\n",
    "    bill = unit*4.5\n",
    "    print(\"Unit is between 0 - 100: \", round(bill))\n",
    "elif unit in range(101, 201) :\n",
    "    tmp = unit-100\n",
    "    bill  = tmp*6+100*4.5\n",
    "    print(\"Unit is between 101 - 200: \", round(bill))\n",
    "elif unit in range(201, 301) :\n",
    "    tmp = unit-200\n",
    "    bill  = tmp*10+100*4.5+100*6\n",
    "    print(\"Unit is between 201 - 300: \", round(bill))\n",
    "else :\n",
    "    tmp = unit-300\n",
    "    bill  = tmp*20+100*4.5+100*6+100*10\n",
    "    print(\"Unit is more than 300: \", round(bill))\n"
   ]
  },
  {
   "cell_type": "code",
   "execution_count": null,
   "id": "dcd441b7-56c9-41f4-a6b0-1cd5c5eb9ebd",
   "metadata": {},
   "outputs": [],
   "source": []
  }
 ],
 "metadata": {
  "kernelspec": {
   "display_name": "Python 3 (ipykernel)",
   "language": "python",
   "name": "python3"
  },
  "language_info": {
   "codemirror_mode": {
    "name": "ipython",
    "version": 3
   },
   "file_extension": ".py",
   "mimetype": "text/x-python",
   "name": "python",
   "nbconvert_exporter": "python",
   "pygments_lexer": "ipython3",
   "version": "3.10.8"
  }
 },
 "nbformat": 4,
 "nbformat_minor": 5
}
